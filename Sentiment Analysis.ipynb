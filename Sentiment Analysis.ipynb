{
 "cells": [
  {
   "cell_type": "code",
   "execution_count": 1,
   "metadata": {},
   "outputs": [
    {
     "data": {
      "text/plain": [
       "review_rating    Sentiment\n",
       "1.0 star rating  Negative     2685\n",
       "                 Neutral       127\n",
       "                 Positive      697\n",
       "2.0 star rating  Negative      482\n",
       "                 Neutral        28\n",
       "                 Positive      152\n",
       "3.0 star rating  Negative      223\n",
       "                 Neutral        18\n",
       "                 Positive      156\n",
       "4.0 star rating  Negative      223\n",
       "                 Neutral        32\n",
       "                 Positive      445\n",
       "5.0 star rating  Negative      930\n",
       "                 Neutral       201\n",
       "                 Positive     4988\n",
       "dtype: int64"
      ]
     },
     "execution_count": 1,
     "metadata": {},
     "output_type": "execute_result"
    }
   ],
   "source": [
    "### Sentiment Analysis\n",
    "import pandas as pd\n",
    "import re\n",
    "\n",
    "#Extracting list of positive and negative words from ready dictionary\n",
    "positive_words = pd.read_csv('positive_words.txt', encoding = \"ISO-8859-1\")\n",
    "negative_words = pd.read_csv('negative_words.txt', encoding = \"ISO-8859-1\")\n",
    "\n",
    "multi_word_positive = []\n",
    "single_word_positive = []\n",
    "\n",
    "multi_word_negative = []\n",
    "single_word_negative = []\n",
    "\n",
    "#Splitting negative words and positive words separately\n",
    "[multi_word_positive.append(words.strip()) if ' ' in words else single_word_positive.append(words.strip()) for words in list(positive_words['WORDS'])]\n",
    "[multi_word_negative.append(words.strip()) if ' ' in words else single_word_negative.append(words.strip()) for words in list(negative_words['WORDS'])]\n",
    "\n",
    "\n",
    "#Loading scraped reviews from file\n",
    "reviews = pd.read_csv('revised_midterm_df.csv')\n",
    "\n",
    "#Function for matching positive and negative words in review text\n",
    "def sentiment_analysis(text):\n",
    "    #tokens = [token for token in re.split(r\"\\W+\", text) if len(token) > 0]\n",
    "    \n",
    "    text = text.upper()\n",
    "    \n",
    "    sentiment_score = 0\n",
    "    \n",
    "    for p1 in multi_word_positive:\n",
    "        sentiment_score += text.count(p1)\n",
    "    \n",
    "    for p2 in multi_word_negative:\n",
    "        sentiment_score -= text.count(p2)\n",
    "        \n",
    "    for p3 in single_word_positive:\n",
    "        sentiment_score += text.count(p3)\n",
    "    \n",
    "    for p4 in single_word_negative:\n",
    "        sentiment_score -= text.count(p4)\n",
    "        \n",
    "    if sentiment_score > 0:\n",
    "        return \"Positive\"\n",
    "    elif sentiment_score < 0:\n",
    "        return \"Negative\"\n",
    "    else:\n",
    "        return \"Neutral\"\n",
    "\n",
    "#Applying sentiment analysis function\n",
    "reviews['Sentiment'] = reviews.apply(lambda row: sentiment_analysis(row['raw_text']), axis = 1)\n",
    "\n",
    "#Results of sentiment analysis\n",
    "reviews.groupby(['review_rating','Sentiment']).size()\n",
    "\n",
    "\n"
   ]
  },
  {
   "cell_type": "code",
   "execution_count": null,
   "metadata": {},
   "outputs": [],
   "source": []
  },
  {
   "cell_type": "code",
   "execution_count": null,
   "metadata": {},
   "outputs": [],
   "source": []
  }
 ],
 "metadata": {
  "kernelspec": {
   "display_name": "Python 3",
   "language": "python",
   "name": "python3"
  },
  "language_info": {
   "codemirror_mode": {
    "name": "ipython",
    "version": 3
   },
   "file_extension": ".py",
   "mimetype": "text/x-python",
   "name": "python",
   "nbconvert_exporter": "python",
   "pygments_lexer": "ipython3",
   "version": "3.7.1"
  }
 },
 "nbformat": 4,
 "nbformat_minor": 2
}
